{
  "nbformat": 4,
  "nbformat_minor": 0,
  "metadata": {
    "colab": {
      "provenance": [],
      "authorship_tag": "ABX9TyMYWuXEtOMijeaH73UkpOOK",
      "include_colab_link": true
    },
    "kernelspec": {
      "name": "python3",
      "display_name": "Python 3"
    },
    "language_info": {
      "name": "python"
    }
  },
  "cells": [
    {
      "cell_type": "markdown",
      "metadata": {
        "id": "view-in-github",
        "colab_type": "text"
      },
      "source": [
        "<a href=\"https://colab.research.google.com/github/kartikey-codes/test-data/blob/main/Demo.ipynb\" target=\"_parent\"><img src=\"https://colab.research.google.com/assets/colab-badge.svg\" alt=\"Open In Colab\"/></a>"
      ]
    },
    {
      "cell_type": "code",
      "source": [
        "!pip -q install langchain-core langchain-community langgraph  langchain-together"
      ],
      "metadata": {
        "colab": {
          "base_uri": "https://localhost:8080/"
        },
        "id": "dVYp7LLzhDDM",
        "outputId": "c4cdc951-0628-4535-a4cf-df8ad503ece1"
      },
      "execution_count": 2,
      "outputs": [
        {
          "output_type": "stream",
          "name": "stdout",
          "text": [
            "\u001b[?25l   \u001b[90m━━━━━━━━━━━━━━━━━━━━━━━━━━━━━━━━━━━━━━━━\u001b[0m \u001b[32m0.0/2.5 MB\u001b[0m \u001b[31m?\u001b[0m eta \u001b[36m-:--:--\u001b[0m\r\u001b[2K   \u001b[91m━━━━\u001b[0m\u001b[91m╸\u001b[0m\u001b[90m━━━━━━━━━━━━━━━━━━━━━━━━━━━━━━━━━━━\u001b[0m \u001b[32m0.3/2.5 MB\u001b[0m \u001b[31m9.2 MB/s\u001b[0m eta \u001b[36m0:00:01\u001b[0m\r\u001b[2K   \u001b[91m━━━━━━━━━━━━━━━━━━━━━━━━━\u001b[0m\u001b[91m╸\u001b[0m\u001b[90m━━━━━━━━━━━━━━\u001b[0m \u001b[32m1.6/2.5 MB\u001b[0m \u001b[31m24.0 MB/s\u001b[0m eta \u001b[36m0:00:01\u001b[0m\r\u001b[2K   \u001b[90m━━━━━━━━━━━━━━━━━━━━━━━━━━━━━━━━━━━━━━━━\u001b[0m \u001b[32m2.5/2.5 MB\u001b[0m \u001b[31m25.9 MB/s\u001b[0m eta \u001b[36m0:00:00\u001b[0m\n",
            "\u001b[2K   \u001b[90m━━━━━━━━━━━━━━━━━━━━━━━━━━━━━━━━━━━━━━━━\u001b[0m \u001b[32m151.4/151.4 kB\u001b[0m \u001b[31m15.5 MB/s\u001b[0m eta \u001b[36m0:00:00\u001b[0m\n",
            "\u001b[2K   \u001b[90m━━━━━━━━━━━━━━━━━━━━━━━━━━━━━━━━━━━━━━━━\u001b[0m \u001b[32m54.9/54.9 kB\u001b[0m \u001b[31m5.4 MB/s\u001b[0m eta \u001b[36m0:00:00\u001b[0m\n",
            "\u001b[2K   \u001b[90m━━━━━━━━━━━━━━━━━━━━━━━━━━━━━━━━━━━━━━━━\u001b[0m \u001b[32m44.7/44.7 kB\u001b[0m \u001b[31m4.0 MB/s\u001b[0m eta \u001b[36m0:00:00\u001b[0m\n",
            "\u001b[2K   \u001b[90m━━━━━━━━━━━━━━━━━━━━━━━━━━━━━━━━━━━━━━━━\u001b[0m \u001b[32m50.9/50.9 kB\u001b[0m \u001b[31m4.3 MB/s\u001b[0m eta \u001b[36m0:00:00\u001b[0m\n",
            "\u001b[2K   \u001b[90m━━━━━━━━━━━━━━━━━━━━━━━━━━━━━━━━━━━━━━━━\u001b[0m \u001b[32m1.2/1.2 MB\u001b[0m \u001b[31m62.6 MB/s\u001b[0m eta \u001b[36m0:00:00\u001b[0m\n",
            "\u001b[2K   \u001b[90m━━━━━━━━━━━━━━━━━━━━━━━━━━━━━━━━━━━━━━━━\u001b[0m \u001b[32m2.9/2.9 MB\u001b[0m \u001b[31m67.8 MB/s\u001b[0m eta \u001b[36m0:00:00\u001b[0m\n",
            "\u001b[?25h"
          ]
        }
      ]
    },
    {
      "cell_type": "code",
      "execution_count": 3,
      "metadata": {
        "id": "x4Yl2Tl3wBvY"
      },
      "outputs": [],
      "source": [
        "import json\n",
        "from typing import Dict, List\n",
        "from langchain.agents import Tool\n",
        "from langchain.schema import SystemMessage, HumanMessage, AIMessage\n",
        "from langchain.agents import initialize_agent\n",
        "from langchain.agents import AgentType\n",
        "from langchain_together import ChatTogether"
      ]
    },
    {
      "cell_type": "code",
      "source": [
        "case_details = {\n",
        "    \"GUR-770-5675-PA-234\": {\n",
        "        \"case_incident_type\": \"Fresh\",\n",
        "        \"INS_COMP_NAME\": \"BAJAJ\",\n",
        "        \"ESTIMATE_COST\": 35000,\n",
        "        \"PATIENT_NAME\": \"SURESH\",\n",
        "        \"ICD_Description\": \"Maternity\"\n",
        "    },\n",
        "    \"GUR-771-5676-PA-235\": {\n",
        "        \"case_incident_type\": \"Follow-up\",\n",
        "        \"INS_COMP_NAME\": \"ICICI\",\n",
        "        \"ESTIMATE_COST\": 25000,\n",
        "        \"PATIENT_NAME\": \"RAMESH\",\n",
        "        \"ICD_Description\": \"Orthopedic\"\n",
        "    }\n",
        "}"
      ],
      "metadata": {
        "id": "JXB-Y8b3wVDq"
      },
      "execution_count": 4,
      "outputs": []
    },
    {
      "cell_type": "code",
      "source": [
        "document_presence = {\n",
        "    \"GUR-770-5675-PA-234\": [\"preauthform\", \"id\", \"ultrasound\"],\n",
        "    \"GUR-771-5676-PA-235\": [\"preauthform\", \"id\", \"xray\"]\n",
        "}"
      ],
      "metadata": {
        "id": "GoHWi1WjwXHm"
      },
      "execution_count": 5,
      "outputs": []
    },
    {
      "cell_type": "code",
      "source": [
        "def get_case_info(case_number: str) -> Dict:\n",
        "    \"\"\"Retrieve case information for a given case number.\"\"\"\n",
        "    return case_details.get(case_number, {})\n"
      ],
      "metadata": {
        "id": "aIL6H1IYwZLo"
      },
      "execution_count": 6,
      "outputs": []
    },
    {
      "cell_type": "code",
      "source": [
        "def mandatory_doc_check(case_number: str) -> Dict:\n",
        "    \"\"\"Check if all mandatory documents are present for a given case.\"\"\"\n",
        "    case_info = get_case_info(case_number)\n",
        "    required_docs = [\"preauthform\", \"id\"]\n",
        "\n",
        "    if case_info.get(\"ICD_Description\") == \"Maternity\":\n",
        "        required_docs.append(\"ultrasound\")\n",
        "    elif case_info.get(\"ICD_Description\") == \"Orthopedic\":\n",
        "        required_docs.append(\"xray\")\n",
        "\n",
        "    present_docs = document_presence.get(case_number, [])\n",
        "    missing_docs = [doc for doc in required_docs if doc not in present_docs]\n",
        "\n",
        "    result = {\n",
        "        \"Result\": len(missing_docs) == 0,\n",
        "        \"Agent_string\": f\"{'All' if len(missing_docs) == 0 else 'Not all'} required documents present for the case {case_number}\",\n",
        "        \"Details\": {\n",
        "            \"missing_docs\": missing_docs,\n",
        "            \"found_docs\": present_docs\n",
        "        }\n",
        "    }\n",
        "\n",
        "    return result"
      ],
      "metadata": {
        "id": "OrmRnYmSwdO_"
      },
      "execution_count": 7,
      "outputs": []
    },
    {
      "cell_type": "code",
      "source": [
        "# Define tools\n",
        "tools = [\n",
        "    Tool(\n",
        "        name=\"Get Case Info\",\n",
        "        func=get_case_info,\n",
        "        description=\"Useful for retrieving information about a specific case number.\"\n",
        "    ),\n",
        "    Tool(\n",
        "        name=\"Check Mandatory Documents\",\n",
        "        func=mandatory_doc_check,\n",
        "        description=\"Useful for checking if all mandatory documents are present for a given case number.\"\n",
        "    )\n",
        "]"
      ],
      "metadata": {
        "id": "cE0Zhrclwgg4"
      },
      "execution_count": 8,
      "outputs": []
    },
    {
      "cell_type": "code",
      "source": [
        "\n",
        "llm = ChatTogether(\n",
        "    together_api_key=\"f213402fef275ba105b218855eba64d09f6c109a13fe8f4c9d92fd9fb7b615cf\",\n",
        "    model=\"meta-llama/Llama-3-70b-chat-hf\",\n",
        ")"
      ],
      "metadata": {
        "id": "DNVDUnS4wiE9"
      },
      "execution_count": 9,
      "outputs": []
    },
    {
      "cell_type": "code",
      "source": [
        "agent = initialize_agent(\n",
        "    tools,\n",
        "    llm,\n",
        "    agent=AgentType.CHAT_ZERO_SHOT_REACT_DESCRIPTION,\n",
        "    verbose=True\n",
        ")"
      ],
      "metadata": {
        "colab": {
          "base_uri": "https://localhost:8080/"
        },
        "id": "PyDak9utwq-R",
        "outputId": "8d6d0dbc-634f-49c5-ee1a-c128c53b8ae7"
      },
      "execution_count": 10,
      "outputs": [
        {
          "output_type": "stream",
          "name": "stderr",
          "text": [
            "<ipython-input-10-d0b82bfffaad>:1: LangChainDeprecationWarning: LangChain agents will continue to be supported, but it is recommended for new use cases to be built with LangGraph. LangGraph offers a more flexible and full-featured framework for building agents, including support for tool-calling, persistence of state, and human-in-the-loop workflows. For details, refer to the `LangGraph documentation <https://langchain-ai.github.io/langgraph/>`_ as well as guides for `Migrating from AgentExecutor <https://python.langchain.com/docs/how_to/migrate_agent/>`_ and LangGraph's `Pre-built ReAct agent <https://langchain-ai.github.io/langgraph/how-tos/create-react-agent/>`_.\n",
            "  agent = initialize_agent(\n"
          ]
        }
      ]
    },
    {
      "cell_type": "code",
      "source": [
        "system_message = SystemMessage(content=\"\"\"You are a claim processor agent. Your task is to process insurance claims by following these steps:\n",
        "1. Collect information about the case using the case number.\n",
        "2. Check if all mandatory documents are present for the case.\n",
        "3. Provide a summary of the case and document status.\n",
        "\n",
        "Always use the provided tools to gather information and check documents.\"\"\")\n"
      ],
      "metadata": {
        "id": "B_Cni3D2wvdU"
      },
      "execution_count": 11,
      "outputs": []
    },
    {
      "cell_type": "code",
      "source": [
        "def process_claim(case_number: str) -> str:\n",
        "    human_message = HumanMessage(content=f\"Adjudicate the case number {case_number}\")\n",
        "    response = agent.run([system_message, human_message])\n",
        "    return response"
      ],
      "metadata": {
        "id": "VFpGgvxJwyA9"
      },
      "execution_count": 12,
      "outputs": []
    },
    {
      "cell_type": "code",
      "source": [
        "case_number = \"GUR-770-5675-PA-234\"\n",
        "result = process_claim(case_number)\n",
        "print(result)"
      ],
      "metadata": {
        "colab": {
          "base_uri": "https://localhost:8080/"
        },
        "id": "mJlhhZ_8w2pP",
        "outputId": "4692e7a2-225c-4f60-973c-cf6ec0702853"
      },
      "execution_count": 14,
      "outputs": [
        {
          "output_type": "stream",
          "name": "stderr",
          "text": [
            "<ipython-input-13-479876095364>:3: LangChainDeprecationWarning: The method `Chain.run` was deprecated in langchain 0.1.0 and will be removed in 1.0. Use :meth:`~invoke` instead.\n",
            "  response = agent.run([system_message, human_message])\n"
          ]
        },
        {
          "output_type": "stream",
          "name": "stdout",
          "text": [
            "\n",
            "\n",
            "\u001b[1m> Entering new AgentExecutor chain...\u001b[0m\n",
            "\u001b[32;1m\u001b[1;3mQuestion: Adjudicate the case number GUR-770-5675-PA-234\n",
            "Thought: I need to collect information about the case using the case number.\n",
            "Action:\n",
            "```\n",
            "{\n",
            "  \"action\": \"Get Case Info\",\n",
            "  \"action_input\": \"GUR-770-5675-PA-234\"\n",
            "}\n",
            "```\n",
            "\u001b[0m\n",
            "Observation: \u001b[36;1m\u001b[1;3m{'case_incident_type': 'Fresh', 'INS_COMP_NAME': 'BAJAJ', 'ESTIMATE_COST': 35000, 'PATIENT_NAME': 'SURESH', 'ICD_Description': 'Maternity'}\u001b[0m\n",
            "Thought:\u001b[32;1m\u001b[1;3mI need to check if all mandatory documents are present for the case.\n",
            "Action:\n",
            "```\n",
            "{\n",
            "  \"action\": \"Check Mandatory Documents\",\n",
            "  \"action_input\": \"GUR-770-5675-PA-234\"\n",
            "}\n",
            "```\n",
            "\u001b[0m\n",
            "Observation: \u001b[33;1m\u001b[1;3m{'Result': True, 'Agent_string': 'All required documents present for the case GUR-770-5675-PA-234', 'Details': {'missing_docs': [], 'found_docs': ['preauthform', 'id', 'ultrasound']}}\u001b[0m\n",
            "Thought:\u001b[32;1m\u001b[1;3mI now have all the necessary information to provide a summary of the case and document status.\n",
            "\n",
            "Final Answer: The case GUR-770-5675-PA-234 is a Fresh incident type with an estimated cost of 35000, related to Maternity (ICD_Description) for patient SURESH, insured by BAJAJ. All mandatory documents, including preauthform, id, and ultrasound, are present for this case.\u001b[0m\n",
            "\n",
            "\u001b[1m> Finished chain.\u001b[0m\n",
            "The case GUR-770-5675-PA-234 is a Fresh incident type with an estimated cost of 35000, related to Maternity (ICD_Description) for patient SURESH, insured by BAJAJ. All mandatory documents, including preauthform, id, and ultrasound, are present for this case.\n"
          ]
        }
      ]
    },
    {
      "cell_type": "code",
      "source": [
        "case_number = \"GUR-771-5676-PA-235\"\n",
        "result = process_claim(case_number)\n",
        "print(result)"
      ],
      "metadata": {
        "colab": {
          "base_uri": "https://localhost:8080/"
        },
        "id": "Wp-Rqf13w8oo",
        "outputId": "8365d774-7e9a-4dff-9724-d3aee885b908"
      },
      "execution_count": 15,
      "outputs": [
        {
          "output_type": "stream",
          "name": "stdout",
          "text": [
            "\n",
            "\n",
            "\u001b[1m> Entering new AgentExecutor chain...\u001b[0m\n",
            "\u001b[32;1m\u001b[1;3mQuestion: Adjudicate the case number GUR-771-5676-PA-235\n",
            "Thought: I need to collect information about the case using the case number.\n",
            "Action:\n",
            "```\n",
            "{\n",
            "  \"action\": \"Get Case Info\",\n",
            "  \"action_input\": \"GUR-771-5676-PA-235\"\n",
            "}\n",
            "```\n",
            "\u001b[0m\n",
            "Observation: \u001b[36;1m\u001b[1;3m{'case_incident_type': 'Follow-up', 'INS_COMP_NAME': 'ICICI', 'ESTIMATE_COST': 25000, 'PATIENT_NAME': 'RAMESH', 'ICD_Description': 'Orthopedic'}\u001b[0m\n",
            "Thought:\u001b[32;1m\u001b[1;3mI need to check if all mandatory documents are present for the case.\n",
            "Action:\n",
            "```\n",
            "{\n",
            "  \"action\": \"Check Mandatory Documents\",\n",
            "  \"action_input\": \"GUR-771-5676-PA-235\"\n",
            "}\n",
            "```\n",
            "\u001b[0m\n",
            "Observation: \u001b[33;1m\u001b[1;3m{'Result': True, 'Agent_string': 'All required documents present for the case GUR-771-5676-PA-235', 'Details': {'missing_docs': [], 'found_docs': ['preauthform', 'id', 'xray']}}\u001b[0m\n",
            "Thought:\u001b[32;1m\u001b[1;3mI have all the necessary information to provide a summary of the case and document status.\n",
            "\n",
            "Thought: I can now provide a summary of the case and document status.\n",
            "Final Answer: The case GUR-771-5676-PA-235 is a follow-up case for RAMESH with an estimated cost of 25000, insured by ICICI, and related to Orthopedic issues. All mandatory documents, including preauthform, id, and xray, are present for this case.\u001b[0m\n",
            "\n",
            "\u001b[1m> Finished chain.\u001b[0m\n",
            "The case GUR-771-5676-PA-235 is a follow-up case for RAMESH with an estimated cost of 25000, insured by ICICI, and related to Orthopedic issues. All mandatory documents, including preauthform, id, and xray, are present for this case.\n"
          ]
        }
      ]
    }
  ]
}